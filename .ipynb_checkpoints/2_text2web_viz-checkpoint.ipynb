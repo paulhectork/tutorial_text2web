{
 "cells": [
  {
   "cell_type": "markdown",
   "id": "65a7c06d",
   "metadata": {},
   "source": [
    "# analyse de texte et visualisation de données avec python\n",
    "\n",
    "*Dans l'épisode précédent*, on a posé les bases de l'analyse de texte en python: ouvrir et lire des fichiers textes, comprendre leur structure et produire des formats de texte structuré, construire des algorithmes de traitement du texte en masse. Pour voir un peu l'impact des transformations qu'on a fait au document originel, nous avons aussi produit une sortie HTML de notre document. En bref, en quelques étapes simples, nous avons créé un début d'édition numérique web de catalogues à partir d'un texte brut. C'est déjà beaucoup !\n",
    "\n",
    "Mais notre objectif n'est pas seulement de d'éditer du texte. Ce qu'on a vu nous a permis de nous familiariser avec les opérations sur du texte en python. Maintenant, ce que l'on va faire, c'est **analyser ce texte** (ou au moins, poser les bases de comment analyser un texte avec python). En repartant du texte brut, nous allons procéder **en 3 étapes**:\n",
    "- nettoyer le texte source \n",
    "- compter les occurrences de chaque mot\n",
    "- visualiser celles-ci via la librairie python `plotly`\n",
    "\n",
    "---\n",
    "\n",
    "## Nettoyer le texte\n",
    "\n",
    "**Pourquoi nettoyer le texte ?** Déjà, parce que si on veut que nos analyses aient un sens, il faut minimiser le bruit dans le texte source. Le texte qu'on traite n'est pas \"propre\", il a été produit par des humains, subi des traitements informatiques et contient donc des erreurs. Mais les erreurs ne sont pas le seul problème. On analyse un texte, et en fonction des informations que l'on recherche, certaines choses dans le texte source sont pertinentes, d'autres non. On veut compter les occurrences de chaque mot. Qu'est-ce que cela implique au niveau du nettoyage ?\n",
    "- la ponctuation n'a donc pas d'intérêt pour nous, et peut engendrer des erreurs. On doit donc la supprimer\n",
    "- un mot peut être écrit avec accents, sans accents... Tout cela peut multiplier le bruit (on pourra avoir `était` et `etait`). On supprime donc les accents\n",
    "- de la même manière, les majuscules peuvent poser problème dans le décompte des mots. On passe donc tout en minuscule.\n",
    "\n",
    "Pour commencer, on réouvre notre texte source et on stocke son contenu dans la variable `source`. Ensuite, on met tout le texte en minuscules."
   ]
  },
  {
   "cell_type": "code",
   "execution_count": null,
   "id": "84d5cda7",
   "metadata": {},
   "outputs": [],
   "source": [
    "with open(\"./input/source.txt\", mode=\"r\", encoding=\"utf-8\") as fh:\n",
    "    source = fh.read()\n",
    "    \n",
    "source = source.lower()"
   ]
  },
  {
   "cell_type": "markdown",
   "id": "229f9117",
   "metadata": {},
   "source": [
    "Pour l'instant, c'était facile. Maintenant, ce qu'on veut, c'est supprimer la ponctuation et remplacer les caractères accentués par leur équivalent non-accentué. \n",
    "\n",
    "Pour rappel, pour remplacer une chaîne de caractère par une autre, on utilise `chaine = chaine.replace(\"chaine_a_remplacer\", \"chaine_de_remplacement\")`. Pour supprimer un texte, il suffit de remplacer le texte à supprimer par une chaîne vide (`\"\"`).\n",
    "\n",
    "Pour remplacer un accent par sa version non accentuée, on utilise un dictionnaire qui associe à un caractère accentué son équivalent non-accentué. Les caractères accentués sont en clés, les non-accentués en valeurs Cela nous permettra de faire des remplacements en masse: si on repère un caractère accentué dans notre texte (c-a-d une clé dans le dictionnaire), on le remplace par une un caractère non-accentué (une valeur du dictionnaire). Pour cela, il faut accéder indépendamment aux clés et aux valeurs du dictionnaire. Pour cela, il y a 3 méthodes:\n",
    "```python\n",
    "    dictionnaire.keys()  # retourne les clés du dictionnaire dans une liste\n",
    "    dictionnaire.values()  # retourne les valeurs du dico dans une liste\n",
    "    dictionnaire.values()  # retourne une liste de tuples, c-a-d de couples clés-valeur\n",
    "```\n",
    "Testons ces méthodes."
   ]
  },
  {
   "cell_type": "code",
   "execution_count": null,
   "id": "df234854",
   "metadata": {
    "scrolled": true
   },
   "outputs": [],
   "source": [
    "autrices = {\n",
    "    \"virginia woolf\": \"écrivaine britannique\",\n",
    "    \"silvia federici\": \"historienne italienne\",\n",
    "    \"svetlana alpers\": \"historienne de l'art\"\n",
    "}\n",
    "\n",
    "print(autrices.keys())\n",
    "print(autrices.values())\n",
    "print(autrices.items())\n",
    "\n",
    "print(\"____________________________________\")\n",
    "\n",
    "# on peut se servir de ces méthodes dans des boucles !\n",
    "# qu'est-ce qui se passe ci-dessous ?\n",
    "for key, value in autrices.items():\n",
    "    print(f\"{key} est une {value}\")"
   ]
  },
  {
   "cell_type": "markdown",
   "id": "2e68a475",
   "metadata": {},
   "source": [
    "La syntaxe `for key, value in dictionnaire.items()` permet de:\n",
    "- boucler sur tous les couples clés-valeurs\n",
    "- à chaque itération, assigner des variables: `key` stocke la clé et `value` la valeur correspondante (on peut bien sûr nommer ces variables comme on veut).\n",
    "\n",
    "Pour mettre en pratique: nettoyons un peu le texte, en supprimant la ponctuation et les accents."
   ]
  },
  {
   "cell_type": "code",
   "execution_count": null,
   "id": "b81f1e0d",
   "metadata": {},
   "outputs": [],
   "source": [
    "# EXERCICE 6 - À L'AIDE DES VARIABLES CI-DESSOUS, NETTOYER SOURCE\n",
    "\n",
    "# variables pour faire le remplacement\n",
    "punct = ['!', '@', '#', '$', '%', '^', '&', '*', '(', ')', '_',\n",
    "         '+', '=', '{', '}', '[', ']', ':', ';', '\"', \"'\", '|',\n",
    "         '<', '>', ',', '.', '?', '/', '~', '`']\n",
    "accents = {\"é\": \"e\", \"è\": \"e\", \"ç\": \"c\",  \"à\": \"a\", \"ê\": \"e\", \"â\": \"a\", \"ô\": \"o\",\n",
    "           \"ò\": \"o\", \"ï\": \"i\", \"ì\": \"i\", \"ö\": \"o\"}\n",
    "    \n",
    "print(source)  # on vérifie que tout va bien"
   ]
  },
  {
   "cell_type": "markdown",
   "id": "d411d549",
   "metadata": {},
   "source": [
    "## Compter les occurrences\n",
    "\n",
    "Après ce nettoyage sommaire, on est parti.e.s pour nettoyer le texte. Comment compter les occurrences d'un texte ? Il faut:\n",
    "- pouvoir accéder à chaque mot individuellement, donc [tokeniser](https://en.wikipedia.org/wiki/Lexical_analysis#Tokenization) notre chaîne de caractères `source` au mot. On devra donc passer par une liste! *(Tokeniser veut dire indiquer au moteur de python comment scinder la chaîne de caractères en sous ensembles. Par défaut, python tokénise une chaîne caractère par caractère. Voir l'explication sur `The quick brown fox...` dans le lien ci-dessus. Nous voulons lui indiquer qu'il faut traiter le texte mot par mot.)*.\n",
    "- ensuite, nous devons compter le nombre d'occurrences de ces mots. Il faut donc utiliser quelque chose qui, à chaque mot, associe le nombre d'occurrences. Vous l'aurez compris, je pense au dictionnaire !\n",
    "\n",
    "Le script python devra donc suivre directement nos besoins en terme de types de données: il faut d'abord construire une `list` de nous les mots et ensuite un `dict` qui ait pour clé un mot et pour valeur le nombre d'occurrences. Essayez de construire votre compteur d'occurrences, en prenant en compte ces détails:\n",
    "- on ne veut pas compter les mots courts (<2 caractères), qui n'ont pas beaucoup d'intérêt\n",
    "- on ne veut pas non plus compter les triples sauts de ligne (`\\n\\n\\n`).\n",
    "- *rappel*: pour incrémenter une valeur (c'est-à-dire, augmenter un nombre avec une valeur fixe), on fait \n",
    "```python\n",
    "        # soit n = la variable qu'on incrémente; \n",
    "        # m = la valeur par laquelle on incrémente\n",
    "        n += m\n",
    "    \n",
    "        # ce qui revient à\n",
    "        n = n + m\n",
    "        \n",
    "        # application\n",
    "        n += 1  # ajouter 1 à la variable n\n",
    "``` "
   ]
  },
  {
   "cell_type": "code",
   "execution_count": null,
   "id": "5a318b4c",
   "metadata": {},
   "outputs": [],
   "source": [
    "# EXERCICE 7 - COMPTER LES OCCURRENCES DES MOTS DANS LE TEXTE\n",
    "\n",
    "# ne pas compter les mots de moins de 2 lettres ou la chaîne de caractère \"\\n\\n\\n\"\n",
    "# stocker son compteur d'occurrences dans une variable\n",
    "# étape 1 - tokeniser la chaîne de caractère au mot \n",
    "#           pour pouvoir accéder aux mots individuellement\n",
    "# étape 2 - compter les occurrences en associant à un mot le nombre d'occurrences."
   ]
  },
  {
   "cell_type": "markdown",
   "id": "62b7aede",
   "metadata": {},
   "source": [
    "On a compté les occurrences et on les a stockées dans un dictionnaire. Celui là n'est pas ordonné (ce qui n'est pas nécessairement grâve). Parce que c'est quand même plus élégant (et que ça va être pratique pour les visualisations), on l'ordonne par ordre croissant des valeurs. Les mots les moins fréquents en début de dictionnaire, les plus fréquents à la fin. Il n'y a pas de méthode automatique pour faire ça, donc on a recours à cette méthode assez complexe:"
   ]
  },
  {
   "cell_type": "code",
   "execution_count": null,
   "id": "2dddb34e",
   "metadata": {},
   "outputs": [],
   "source": [
    "# sorted permet d'ordonner en définissant une `key`, qui est ici une fonction lamba\n",
    "# mais pas la peine de comprendre tout ça\n",
    "occurrences = {\n",
    "    key: value for key, value in sorted(\n",
    "        occurrences.items(), key=lambda item: item[1]\n",
    "    )\n",
    "}"
   ]
  },
  {
   "cell_type": "markdown",
   "id": "afb08a14",
   "metadata": {},
   "source": [
    "Pour finir, on écrit le fichier. Un dictionnaire python, c'est en fait du `json`, ce qui est très pratique :\n",
    "- le `json` est très utile pour communiquer des données. C'est le mode de sonnées central de Javascript, par exemple, donc python est très utile pour envoyer des informations à une page web depuis python vers js.\n",
    "- on peut manipuler du json en python comme on manipule un dictionnaire, ce qui rend l'utilisation de json très facile en python (plus facile que le CSV, à mon avis).\n",
    "\n",
    "Pour ouvrir et écrire dans un fichier en json, il faut passer par la librairie `json` (pour rappel, une librairie est un ensemble de fonctions qui ont généralement une fonction spécifique: faire des maths, de l'analyse de données, communiquer avec des bases de données...). Il y a deux méthodes très utiles: `json.load()` et `json.dump()`, pour lire et écrire du JSON dans des fichiers.\n",
    "\n",
    "On fait comme pour lire/écrire des fichiers:\n",
    "```python\n",
    "    import json  # on importe la librairie\n",
    "   \n",
    "    # lecture\n",
    "    with open(\"ficher/a/ouvrir\", mode=\"r\") as fh:\n",
    "        data = json.load(fh)  # on lit le contenu du fichier et l'assigne à une variable\n",
    "        \n",
    "    # écriture\n",
    "    beaujson = {}  # dictionnaire à enregistrer\n",
    "    with open(\"fichier/a/ouvrir\", mode=\"w\" as fh:\n",
    "        # syntaxe: json.dump(data_a_ecrire, fichier). \n",
    "        # indent= est optionnel. permet d'ajouter des sauts de ligne et de l'indentation \n",
    "        # pour le rendre +lisible\n",
    "        json.dump(beaujson, fh, indent=4)\n",
    "```\n",
    "\n",
    "On écrit donc le fichier:"
   ]
  },
  {
   "cell_type": "code",
   "execution_count": null,
   "id": "0a92dcc9",
   "metadata": {},
   "outputs": [],
   "source": [
    "import json\n",
    "\n",
    "with open(\"output/occurrences.json\", mode=\"w\") as fh:\n",
    "    json.dump(occurrences, fh, indent=4)  # json.dump(data, fichier, indentation)"
   ]
  },
  {
   "cell_type": "markdown",
   "id": "0acaa002",
   "metadata": {},
   "source": [
    "## Construire les visualisations\n",
    "\n",
    "Et maintenant, la dernière étape de notre marathon-python: faire des visualisations. Pour les faire, nous allons utiliser la librairie `plotly`. C'est l'une des deux plus utilisées (avec `matplotlib`). Elle est assez compliquée à utiliser, peut-être plus que `matplotlib`, mais présente plusieurs avantages:\n",
    "- c'est une librairie open source (même si elle est développée par une entreprise, ce qu'il faut garder en tête)\n",
    "- la version python est un \"front-end\" de javascript: nous écrivons en python, mais cela est traduit en javascript. Du coup, on est pas obligé.e.s de produire d'images statiques: on peut créer automatiquement du HTML dynamique que l'on peut intégrer à une page web. C'est quand même bien !\n",
    "- toutes les adaptations de plotly à d'autres languages que javascript (`R`, `python`...) sont faites par l'entreprise qui a créé la version javascript. Cela veut dire que, d'abord, les implémentations sont bonnes, et qu'ensuite elles sont très complètes. On ne perd pas de fonctionnalité et les graphiques sont extrêmement personnalisables.\n",
    "- de manière plus technique: toutes les figures sont, à un bas niveau, stockées en JSON, ce qui permet de les manipuler de différentes manières et de travailler avec de façon assez malléable\n",
    "\n",
    "Pour dire les choses de manière simple, un graphique, c'est:\n",
    "- des données à afficher, et notamment des axes des abscisses (`x`) et ordonnées (`y`) qui sont alignés\n",
    "- des informations sur la manière d'afficher ces informations\n",
    "\n",
    "En langage plotly, une figure s'écrit:\n",
    "```python\n",
    "    fig = go.Figure(\n",
    "        data = [go.Bar()],\n",
    "        layout = go.Layout()\n",
    "    )\n",
    "```\n",
    "\n",
    "- une figure (cad un graphique) est un objet `go.Figure` qui prend une variable `data` pour les données et `layout` pour le style\n",
    "- on assigne à `data` une liste des formes qui s'afficheront sur le graphique. Les formes sont des `graphic objects` plotly (ici `go.Bar()`)\n",
    "- on assigne à `data` un objet `go.Layout()` qui contient un dictionnaire définissant le style de notre graphique\n",
    "\n",
    "Pour tester les visualisations, nous allons faire un graphique à partir de notre décompte d'occurrences. On commence par ouvrir notre json de données:"
   ]
  },
  {
   "cell_type": "code",
   "execution_count": null,
   "id": "f26d2077",
   "metadata": {},
   "outputs": [],
   "source": [
    "with open(\"output/occurrences.json\", mode=\"r\") as fh:\n",
    "    data = json.load(fh)  # on charge le json dans une variable. c'est un dictionnaire !"
   ]
  },
  {
   "cell_type": "markdown",
   "id": "7dd70de3",
   "metadata": {},
   "source": [
    "Ensuite, on définit nos axes des abscisses (`x`) et des ordonnées (`y`). Dans notre cas, les abscisses sont les mots (c-a-d les clés de `data`) et en ordonnées le nombre de fois qu'on a ce mot dans le texte (les valeurs de `data`). Définir nos `x` et `y` est donc assez facile: il faut faire deux listes correspondant respectivement aux clés et aux valeurs de `data`."
   ]
  },
  {
   "cell_type": "code",
   "execution_count": null,
   "id": "56a111e1",
   "metadata": {},
   "outputs": [],
   "source": [
    "# EXERCICE 8 - DÉFINIR LES AXES x ET y\n",
    "\n",
    "x = []\n",
    "y = []"
   ]
  },
  {
   "cell_type": "markdown",
   "id": "05455a2e",
   "metadata": {},
   "source": [
    "Ensuite, on crée notre figure. Pour ce faire, on commence par importer `plotly`. On n'importe pas toute la librairie (qui est immense), mais seulement des sous parties. Ensuite, on définit les bases de notre style: couleurs, dégradé."
   ]
  },
  {
   "cell_type": "code",
   "execution_count": null,
   "id": "59885b22",
   "metadata": {},
   "outputs": [],
   "source": [
    "from plotly.colors import make_colorscale  # pour le dégradé de couleurs\n",
    "import plotly.graph_objs as go  # pour faire le graphique\n",
    "from plotly.io import to_html  # pour écrire sous forme de fichier statique\n",
    "\n",
    "# pour des raisons purement pratiques, on stocke quelques couleurs dans un dictionnaire\n",
    "colors = {\"white\": \"#ffffff\", \"cream\": \"#fcf8f7\", \"blue\": \"#0000ef\", \"purple\": \"#bd148b\"}\n",
    "scale = make_colorscale([colors[\"blue\"], colors[\"purple\"]])  # créer une échelle de couleurs\n",
    "colorbar = {\"xpad\": 0, \"ypad\": 0}  # pour un joli dégradé qui s'affiche sur la droite"
   ]
  },
  {
   "cell_type": "markdown",
   "id": "e65390d0",
   "metadata": {},
   "source": [
    "Enfin, on crée notre figure. Il y a énormément de possibilités, donc je ne vais pas tout détailler.\n",
    "- `go.Figure()` permet de créer un objet graphique\n",
    "- `go.Bar()` créer un objet \"graphique en barres\", qui créera une barre pour chaque point dans `x` et `y`.\n",
    "    - `x` et `y` sont nos axes, `width` définit la largeur de la barre\n",
    "    - `marker` définit les couleurs à l'intérieur du graphique. parmi une échelle de couleurs définie dans `colorscale`, `color` permet de définir les valeurs à partir desquelles colorer le graphique (ici, nos couleurs dépendent de la valeur de `y`)\n",
    "    - `hovertemplate` définit un texte à afficher quand on survole une bar du graphique\n",
    "- `go.Layout()` définit le style de notre figure."
   ]
  },
  {
   "cell_type": "code",
   "execution_count": null,
   "id": "be7b6996",
   "metadata": {
    "scrolled": false
   },
   "outputs": [],
   "source": [
    "fig = go.Figure(\n",
    "    data=[go.Bar(x=x, y=y, width=1.1, marker={\"color\": y, \"colorbar\":colorbar,\n",
    "                                              \"colorscale\": scale, \"cauto\": False, \n",
    "                                              \"cmin\": 0, \"cmax\": 10},\n",
    "                 hovertemplate=\"<b>'%{x}'</b>: %{y} occurrences<extra></extra>\")],\n",
    "    layout=go.Layout({\n",
    "        \"paper_bgcolor\": colors[\"white\"],\n",
    "        \"plot_bgcolor\": colors[\"cream\"],\n",
    "        \"margin\": {\"l\": 5, \"r\": 5, \"t\": 30, \"b\": 30},\n",
    "        \"yaxis_range\": [0, 20],\n",
    "        \"xaxis\": {\"anchor\": \"x\", \"title\": {\"text\": \"Mot\"}},\n",
    "        \"yaxis\": {\"anchor\": \"y\", \"title\": {\"text\": \"Nombre d'occurrences\"}},\n",
    "        \"title\": \"Nombre d'occurrences par mot\",\n",
    "    })\n",
    ")\n",
    "\n",
    "fig.show()  # pour afficher notre figure. c'est joli hein !"
   ]
  },
  {
   "cell_type": "markdown",
   "id": "ed290a32",
   "metadata": {},
   "source": [
    "À ce stade, le graphique est représenté sous la forme d'un objet plotly. C'est joli, mais on ne peut pas en faire grand chose. Nous allons traduire l'objet en html (c'est-à-dire, sous la forme d'un objet JavaScript qui sera traduit par Plotly)."
   ]
  },
  {
   "cell_type": "code",
   "execution_count": null,
   "id": "7321c5ac",
   "metadata": {},
   "outputs": [],
   "source": [
    "htmlfig = to_html(fig, include_plotlyjs=\"cdn\", full_html=False, default_width=\"100%\",\n",
    "                  default_height=\"70%\")"
   ]
  },
  {
   "cell_type": "markdown",
   "id": "448d6f38",
   "metadata": {},
   "source": [
    "Maintenant, tout ce qu'il nous reste à faire, c'est de mettre à jour le document HTML avec ce graphique dessus. Il y a un emplacement de destination pour la figure: le texte `{PLACEHOLDER_GRAPH}` dans notre HTML. Pour intégrer le graphique, \"mettez à jour\" le fichier HTML produit dans le chapitre précédent par une version du HTML qui contienne le graphique, comme on l'a vu au chapitre précédent."
   ]
  },
  {
   "cell_type": "code",
   "execution_count": null,
   "id": "88e7f73f",
   "metadata": {},
   "outputs": [],
   "source": [
    "# EXERCICE 8 - \"METTRE À JOUR\" LE HTML POUR Y INTÉGRER LE GRAPHIQUE"
   ]
  },
  {
   "cell_type": "markdown",
   "id": "8b18344a",
   "metadata": {},
   "source": [
    "## Conclusion\n",
    "\n",
    "Et voilààà, nous avons fini. Ça a peut-être l'air peu ou très spécifique, mais nous avons vu ou survolé la plupart des bases de python (type de données, opérations sur des fichiers, boucles, structures conditionnelles...) et vu brièvement des librairies plus complexes. Maintenant, la seule chose qui reste, c'est de pratiquer-pratiquer-pratiquer pour faire rentrer la logique de python. Si vous voulez aller plus loin, je conseille surtout [l'excellent cours de T. Clérice](https://github.com/ponteineptique/cours-python), qui passe plus de temps sur les bases et ensuite traite beaucoup d'autres choses.\n",
    "\n",
    "**Exercice bonus** : créer un dictionnaire associant à chaque prix `XXX francs` le nombre d'occurrences de ce prix dans le document source. Enregistrer le résultat dans `output/occurrences_prix.json`. Si vous avez le courage, essayez de faire une visualisation et de l'intégrer au HTML. Tips:\n",
    "- pour bien cibler les prix, le plus simple est de reprendre le texte structuré fait à l'étape précédente. Si vous êtes à l'aise avec les dictionnaires, travailler à partir du dictionnaire créé à l'exercice bonus de l'étape précédente.\n",
    "- pour faire une nouvelle visualisation, il suffit de prendre le code écrit au dessus et de modifier les données par celles que vous venez de produire.\n",
    "\n",
    "\n",
    "**Pour aller (encore) plus loin**: voir le script utilisé (fichier `utils/to_text.py`) pour créer le document utilisé comme source dans ce tutoriel. Le script est largement commenté, utilise la librairie `lxml` (qui n'est pas évidente, mais très efficace pour travailler avec du XML et HTML) et donne une petite introduction à la détection de motifs à l'aide d'expressions régulières. Pour faire tourner ce script, il faut néanmoins avoir un clone de [ce dépôt](https://github.com/katabase/1_OutputData) dans votre dossier `utils`."
   ]
  },
  {
   "cell_type": "code",
   "execution_count": null,
   "id": "71794812",
   "metadata": {},
   "outputs": [],
   "source": [
    "# EXERCICE 9 (BONUS) - CRÉER UN COMPTEUR D'OCCURRENCES DE PRIX, EN FAIRE UN GRAPHIQUE\n",
    "# ET L'INTÉGRER À LA PAGE WEB"
   ]
  }
 ],
 "metadata": {
  "kernelspec": {
   "display_name": "Python 3 (ipykernel)",
   "language": "python",
   "name": "python3"
  },
  "language_info": {
   "codemirror_mode": {
    "name": "ipython",
    "version": 3
   },
   "file_extension": ".py",
   "mimetype": "text/x-python",
   "name": "python",
   "nbconvert_exporter": "python",
   "pygments_lexer": "ipython3",
   "version": "3.8.10"
  }
 },
 "nbformat": 4,
 "nbformat_minor": 5
}
